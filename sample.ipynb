{
 "cells": [
  {
   "cell_type": "markdown",
   "id": "00ad37c1-4168-4854-b8b8-7076631503d7",
   "metadata": {},
   "source": [
    "# Walkthru sample notebook"
   ]
  },
  {
   "cell_type": "code",
   "execution_count": null,
   "id": "66e6f672-c7ec-44c8-87d4-b4f5b67f8588",
   "metadata": {},
   "outputs": [],
   "source": [
    "Here is ..."
   ]
  }
 ],
 "metadata": {
  "kernelspec": {
   "display_name": "Python 3 (ipykernel)",
   "language": "python",
   "name": "python3"
  },
  "language_info": {
   "codemirror_mode": {
    "name": "ipython",
    "version": 3
   },
   "file_extension": ".py",
   "mimetype": "text/x-python",
   "name": "python",
   "nbconvert_exporter": "python",
   "pygments_lexer": "ipython3",
   "version": "3.10.6"
  }
 },
 "nbformat": 4,
 "nbformat_minor": 5
}
